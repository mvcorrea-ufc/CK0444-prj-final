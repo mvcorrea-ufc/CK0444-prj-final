{
 "cells": [
  {
   "cell_type": "code",
   "execution_count": null,
   "id": "164c2c6e",
   "metadata": {},
   "outputs": [
    {
     "name": "stdout",
     "output_type": "stream",
     "text": [
      "{'result': [0]}\n"
     ]
    }
   ],
   "source": [
    "import requests\n",
    "\n",
    "#data_tuple = [559, 47, 70, 9, 2, 0.89, 3.0, 3, 2, 48, 13] #buggy\n",
    "data_tuple = [154, 14, 34, 17, 2, 2.0, 4.5, 0, 0, 40, 10] #not buggy\n",
    "data_tuple = [float(element) for element in data_tuple]\n",
    "response = requests.post('http://127.0.0.1:5000/predict', json={'data_tuple': data_tuple})\n",
    "print(response.json())"
   ]
  }
 ],
 "metadata": {
  "kernelspec": {
   "display_name": "Python 3",
   "language": "python",
   "name": "python3"
  },
  "language_info": {
   "codemirror_mode": {
    "name": "ipython",
    "version": 3
   },
   "file_extension": ".py",
   "mimetype": "text/x-python",
   "name": "python",
   "nbconvert_exporter": "python",
   "pygments_lexer": "ipython3",
   "version": "3.11.0"
  }
 },
 "nbformat": 4,
 "nbformat_minor": 5
}
