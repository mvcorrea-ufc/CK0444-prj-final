{
 "cells": [
  {
   "cell_type": "markdown",
   "metadata": {},
   "source": [
    "# Cliente de Teste para o Serviço de Predição\n",
    "\n",
    "Este notebook demonstra como fazer uma requisição para a API de predição de performance educacional."
   ]
  },
  {
   "cell_type": "code",
   "execution_count": null,
   "metadata": {},
   "outputs": [],
   "source": [
    "import requests\n",
    "import json"
   ]
  },
  {
   "cell_type": "markdown",
   "metadata": {},
   "source": [
    "## 1. Definir os Dados de Entrada\n",
    "\n",
    "Os dados devem ser um dicionário Python contendo as features que o modelo espera."
   ]
  },
  {
   "cell_type": "code",
   "execution_count": null,
   "metadata": {},
   "outputs": [],
   "source": [
    "# Exemplo de dados para um município\n",
    "input_data = {\n",
    "    \"PARTIDO\": \"PSOL\",\n",
    "    \"TX_APROVACAO_5ANO\": 0.75,\n",
    "    \"TX_REPROVACAO_5ANO\": 0.15,\n",
    "    \"TX_ABANDONO_5ANO\": 0.10\n",
    "}"
   ]
  },
  {
   "cell_type": "markdown",
   "metadata": {},
   "source": [
    "## 2. Fazer a Requisição POST\n",
    "\n",
    "Vamos enviar os dados para o endpoint `/predict` da nossa API."
   ]
  },
  {
   "cell_type": "code",
   "execution_count": null,
   "metadata": {},
   "outputs": [],
   "source": [
    "# URL do serviço (se estiver rodando localmente)\n",
    "url = \"http://127.0.0.1:5000/predict\"\n",
    "\n",
    "# Cabeçalho da requisição\n",
    "headers = {\n",
    "    \"Content-Type\": \"application/json\"\n",
    "}\n",
    "\n",
    "# Enviar a requisição\n",
    "response = requests.post(url, data=json.dumps(input_data), headers=headers)\n"
   ]
  },
  {
   "cell_type": "markdown",
   "metadata": {},
   "source": [
    "## 3. Analisar a Resposta"
   ]
  },
  {
   "cell_type": "code",
   "execution_count": null,
   "metadata": {},
   "outputs": [],
   "source": [
    "print(f\"Status Code: {response.status_code}\\n\")\n",
    "\n",
    "if response.status_code == 200:\n",
    "    # Imprimir a resposta JSON formatada\n",
    "    response_data = response.json()\n",
    "    print(json.dumps(response_data, indent=2))\n",
    "else:\n",
    "    print(f\"Erro: {response.text}\")"
   ]
  }
 ],
 "metadata": {
  "kernelspec": {
   "display_name": "Python 3",
   "language": "python",
   "name": "python3"
  },
  "language_info": {
   "codemirror_mode": {
    "name": "ipython",
    "version": 3
   },
   "file_extension": ".py",
   "mimetype": "text/x-python",
   "name": "python",
   "nbconvert_exporter": "python",
   "pygments_lexer": "ipython3",
   "version": "3.11.6"
  }
 },
 "nbformat": 4,
 "nbformat_minor": 2
}